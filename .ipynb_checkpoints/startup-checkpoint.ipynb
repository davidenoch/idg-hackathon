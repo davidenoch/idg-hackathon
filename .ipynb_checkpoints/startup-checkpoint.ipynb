{
 "cells": [
  {
   "cell_type": "markdown",
   "id": "8378c799-113f-4a09-a379-8b69a2ce933d",
   "metadata": {},
   "source": [
    "#startup template for Jupyter Notebook\n",
    "# activate tab completion so I won't shy away from descriptive vars\n",
    "%config IPCompleter.use_jedi = False\n",
    "%config IPCompleter.greedy = True\n",
    "%matplotlib inline"
   ]
  },
  {
   "cell_type": "code",
   "execution_count": null,
   "id": "a6510bb9-91ed-476a-8da0-d262b76a1112",
   "metadata": {},
   "outputs": [],
   "source": [
    "import numpy as np\n",
    "import pandas as pd\n",
    "import matplotlib.pyplot as plt\n",
    "import seaborn as sns\n",
    "import os\n",
    "import requests\n",
    "import collections\n",
    "import warnings\n",
    "from datetime import date, time, datetime, timedelta\n",
    "from dateutil.relativedelta import relativedelta\n",
    "import matplotlib.dates as mdates\n",
    "from IPython.display import display, HTML, Markdown, Video, Javascript, Image\n",
    "# Allow for multiple outputs from one cell\n",
    "from IPython.core.interactiveshell import InteractiveShell\n",
    "InteractiveShell.ast_node_interactivity = \"all\"  # 'last' for last output other options: (last_expr, last_expr_or_assign, 'None')   \n"
   ]
  }
 ],
 "metadata": {
  "kernelspec": {
   "display_name": "Python 3 (ipykernel)",
   "language": "python",
   "name": "python3"
  },
  "language_info": {
   "codemirror_mode": {
    "name": "ipython",
    "version": 3
   },
   "file_extension": ".py",
   "mimetype": "text/x-python",
   "name": "python",
   "nbconvert_exporter": "python",
   "pygments_lexer": "ipython3",
   "version": "3.9.6"
  }
 },
 "nbformat": 4,
 "nbformat_minor": 5
}
