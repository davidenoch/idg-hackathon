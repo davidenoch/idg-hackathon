{
 "cells": [
  {
   "cell_type": "code",
   "execution_count": 1,
   "id": "9bb82741-3f6a-4a5b-9c44-d20437903743",
   "metadata": {},
   "outputs": [
    {
     "name": "stdout",
     "output_type": "stream",
     "text": [
      "Package Version\n",
      "------- ---------\n",
      "certifi 2024.8.30\n",
      "pip     24.2\n",
      "wheel   0.44.0\n"
     ]
    }
   ],
   "source": [
    "!pip list"
   ]
  },
  {
   "cell_type": "code",
   "execution_count": null,
   "id": "e5bf0876-58d2-403c-a741-806c78524067",
   "metadata": {},
   "outputs": [],
   "source": [
    "#startup template for Jupyter Notebook\n",
    "# activate tab completion so I won't shy away from descriptive vars\n",
    "%config IPCompleter.use_jedi = False\n",
    "%config IPCompleter.greedy = True\n",
    "%matplotlib inline"
   ]
  },
  {
   "cell_type": "code",
   "execution_count": null,
   "id": "a6510bb9-91ed-476a-8da0-d262b76a1112",
   "metadata": {},
   "outputs": [],
   "source": [
    "import numpy as np\n",
    "import pandas as pd\n",
    "import matplotlib.pyplot as plt\n",
    "import seaborn as sns\n",
    "import os\n",
    "import requests\n",
    "import collections\n",
    "import warnings\n",
    "from datetime import date, time, datetime, timedelta\n",
    "from dateutil.relativedelta import relativedelta\n",
    "import matplotlib.dates as mdates\n",
    "from IPython.display import display, HTML, Markdown, Video, Javascript, Image\n",
    "# Allow for multiple outputs from one cell\n",
    "from IPython.core.interactiveshell import InteractiveShell\n",
    "InteractiveShell.ast_node_interactivity = \"all\"  # 'last' for last output other options: (last_expr, last_expr_or_assign, 'None')   \n"
   ]
  },
  {
   "cell_type": "code",
   "execution_count": null,
   "id": "7fc7812d-35ce-456d-a74b-f72548e7208e",
   "metadata": {},
   "outputs": [],
   "source": [
    "# pd.set_option('display.max_rows', None)\n",
    "# pd.set_option('display.max_columns', None)\n",
    "# pd.set_option('display.width', None)\n"
   ]
  },
  {
   "cell_type": "code",
   "execution_count": 9,
   "id": "96d96ed7-e969-4c94-94bc-d13a5f3ad569",
   "metadata": {},
   "outputs": [
    {
     "name": "stdout",
     "output_type": "stream",
     "text": [
      "Exception reporting mode: Minimal\n"
     ]
    }
   ],
   "source": [
    "#xmode"
   ]
  },
  {
   "cell_type": "code",
   "execution_count": null,
   "id": "3021bf0e-4464-4e1d-93da-e666e5a1b3da",
   "metadata": {},
   "outputs": [],
   "source": [
    "# !echo $ENVIRONMENT_VAR"
   ]
  }
 ],
 "metadata": {
  "kernelspec": {
   "display_name": "Python 3 (ipykernel)",
   "language": "python",
   "name": "python3"
  },
  "language_info": {
   "codemirror_mode": {
    "name": "ipython",
    "version": 3
   },
   "file_extension": ".py",
   "mimetype": "text/x-python",
   "name": "python",
   "nbconvert_exporter": "python",
   "pygments_lexer": "ipython3",
   "version": "3.13.1"
  },
  "widgets": {
   "application/vnd.jupyter.widget-state+json": {
    "state": {},
    "version_major": 2,
    "version_minor": 0
   }
  }
 },
 "nbformat": 4,
 "nbformat_minor": 5
}
